{
 "cells": [
  {
   "cell_type": "code",
   "execution_count": 1,
   "id": "ec602979",
   "metadata": {},
   "outputs": [],
   "source": [
    "# huggingface-cli download mistral-community/Mistral-7B-v0.2 --exclude \"*.safetensors\""
   ]
  },
  {
   "cell_type": "code",
   "execution_count": 2,
   "id": "3ce635cb",
   "metadata": {},
   "outputs": [
    {
     "name": "stderr",
     "output_type": "stream",
     "text": [
      "2024-04-23 19:23:48,564 - modelscope - INFO - PyTorch version 2.1.2 Found.\n",
      "2024-04-23 19:23:48,568 - modelscope - INFO - Loading ast index from /home/app.e0016372/.cache/modelscope/ast_indexer\n",
      "2024-04-23 19:23:48,639 - modelscope - INFO - Loading done! Current index file version is 1.13.3, with md5 ed4bcd7e6e1069a884c50770b4ec958b and a total number of 972 components indexed\n"
     ]
    }
   ],
   "source": [
    "import subprocess\n",
    "from pathlib import Path\n",
    "from modelscope import snapshot_download"
   ]
  },
  {
   "cell_type": "code",
   "execution_count": 3,
   "id": "6a1b88d2",
   "metadata": {},
   "outputs": [],
   "source": [
    "nums = 30\n",
    "name = 'LLM-Research/Meta-Llama-3-70B-Instruct'\n",
    "path = Path.home().joinpath(f'.cache/modelscope/hub/{name}')"
   ]
  },
  {
   "cell_type": "code",
   "execution_count": 4,
   "id": "c4e2ae9a",
   "metadata": {},
   "outputs": [
    {
     "name": "stdout",
     "output_type": "stream",
     "text": [
      "https://www.modelscope.cn/api/v1/models/LLM-Research/Meta-Llama-3-70B-Instruct/repo?Revision=master&FilePath=model-00001-of-00030.safetensors\n",
      "https://www.modelscope.cn/api/v1/models/LLM-Research/Meta-Llama-3-70B-Instruct/repo?Revision=master&FilePath=model-00002-of-00030.safetensors\n",
      "https://www.modelscope.cn/api/v1/models/LLM-Research/Meta-Llama-3-70B-Instruct/repo?Revision=master&FilePath=model-00003-of-00030.safetensors\n",
      "https://www.modelscope.cn/api/v1/models/LLM-Research/Meta-Llama-3-70B-Instruct/repo?Revision=master&FilePath=model-00004-of-00030.safetensors\n",
      "https://www.modelscope.cn/api/v1/models/LLM-Research/Meta-Llama-3-70B-Instruct/repo?Revision=master&FilePath=model-00005-of-00030.safetensors\n",
      "https://www.modelscope.cn/api/v1/models/LLM-Research/Meta-Llama-3-70B-Instruct/repo?Revision=master&FilePath=model-00006-of-00030.safetensors\n",
      "https://www.modelscope.cn/api/v1/models/LLM-Research/Meta-Llama-3-70B-Instruct/repo?Revision=master&FilePath=model-00007-of-00030.safetensors\n",
      "https://www.modelscope.cn/api/v1/models/LLM-Research/Meta-Llama-3-70B-Instruct/repo?Revision=master&FilePath=model-00008-of-00030.safetensors\n",
      "https://www.modelscope.cn/api/v1/models/LLM-Research/Meta-Llama-3-70B-Instruct/repo?Revision=master&FilePath=model-00009-of-00030.safetensors\n",
      "https://www.modelscope.cn/api/v1/models/LLM-Research/Meta-Llama-3-70B-Instruct/repo?Revision=master&FilePath=model-00010-of-00030.safetensors\n",
      "https://www.modelscope.cn/api/v1/models/LLM-Research/Meta-Llama-3-70B-Instruct/repo?Revision=master&FilePath=model-00011-of-00030.safetensors\n",
      "https://www.modelscope.cn/api/v1/models/LLM-Research/Meta-Llama-3-70B-Instruct/repo?Revision=master&FilePath=model-00012-of-00030.safetensors\n",
      "https://www.modelscope.cn/api/v1/models/LLM-Research/Meta-Llama-3-70B-Instruct/repo?Revision=master&FilePath=model-00013-of-00030.safetensors\n",
      "https://www.modelscope.cn/api/v1/models/LLM-Research/Meta-Llama-3-70B-Instruct/repo?Revision=master&FilePath=model-00014-of-00030.safetensors\n",
      "https://www.modelscope.cn/api/v1/models/LLM-Research/Meta-Llama-3-70B-Instruct/repo?Revision=master&FilePath=model-00015-of-00030.safetensors\n",
      "https://www.modelscope.cn/api/v1/models/LLM-Research/Meta-Llama-3-70B-Instruct/repo?Revision=master&FilePath=model-00016-of-00030.safetensors\n",
      "https://www.modelscope.cn/api/v1/models/LLM-Research/Meta-Llama-3-70B-Instruct/repo?Revision=master&FilePath=model-00017-of-00030.safetensors\n",
      "https://www.modelscope.cn/api/v1/models/LLM-Research/Meta-Llama-3-70B-Instruct/repo?Revision=master&FilePath=model-00018-of-00030.safetensors\n",
      "https://www.modelscope.cn/api/v1/models/LLM-Research/Meta-Llama-3-70B-Instruct/repo?Revision=master&FilePath=model-00019-of-00030.safetensors\n",
      "https://www.modelscope.cn/api/v1/models/LLM-Research/Meta-Llama-3-70B-Instruct/repo?Revision=master&FilePath=model-00020-of-00030.safetensors\n",
      "https://www.modelscope.cn/api/v1/models/LLM-Research/Meta-Llama-3-70B-Instruct/repo?Revision=master&FilePath=model-00021-of-00030.safetensors\n",
      "https://www.modelscope.cn/api/v1/models/LLM-Research/Meta-Llama-3-70B-Instruct/repo?Revision=master&FilePath=model-00022-of-00030.safetensors\n",
      "https://www.modelscope.cn/api/v1/models/LLM-Research/Meta-Llama-3-70B-Instruct/repo?Revision=master&FilePath=model-00023-of-00030.safetensors\n",
      "https://www.modelscope.cn/api/v1/models/LLM-Research/Meta-Llama-3-70B-Instruct/repo?Revision=master&FilePath=model-00024-of-00030.safetensors\n",
      "https://www.modelscope.cn/api/v1/models/LLM-Research/Meta-Llama-3-70B-Instruct/repo?Revision=master&FilePath=model-00025-of-00030.safetensors\n",
      "https://www.modelscope.cn/api/v1/models/LLM-Research/Meta-Llama-3-70B-Instruct/repo?Revision=master&FilePath=model-00026-of-00030.safetensors\n",
      "https://www.modelscope.cn/api/v1/models/LLM-Research/Meta-Llama-3-70B-Instruct/repo?Revision=master&FilePath=model-00027-of-00030.safetensors\n",
      "https://www.modelscope.cn/api/v1/models/LLM-Research/Meta-Llama-3-70B-Instruct/repo?Revision=master&FilePath=model-00028-of-00030.safetensors\n",
      "https://www.modelscope.cn/api/v1/models/LLM-Research/Meta-Llama-3-70B-Instruct/repo?Revision=master&FilePath=model-00029-of-00030.safetensors\n",
      "https://www.modelscope.cn/api/v1/models/LLM-Research/Meta-Llama-3-70B-Instruct/repo?Revision=master&FilePath=model-00030-of-00030.safetensors\n"
     ]
    }
   ],
   "source": [
    "for i in range(nums):\n",
    "    url = f'https://www.modelscope.cn/api/v1/models/{name}'\n",
    "    url = f'{url}/repo?Revision=master&FilePath=model-{i+1:0>5d}-of-{nums:0>5d}.safetensors'\n",
    "    print(url)"
   ]
  },
  {
   "cell_type": "code",
   "execution_count": 5,
   "id": "7cea2408",
   "metadata": {},
   "outputs": [
    {
     "name": "stderr",
     "output_type": "stream",
     "text": [
      "Downloading: 100%|██████████| 654/654 [00:00<00:00, 1.54MB/s]\n",
      "Downloading: 100%|██████████| 48.0/48.0 [00:00<00:00, 132kB/s]\n",
      "Downloading: 100%|██████████| 126/126 [00:00<00:00, 357kB/s]\n",
      "Downloading: 100%|██████████| 7.62k/7.62k [00:00<00:00, 8.97MB/s]\n",
      "Downloading: 100%|██████████| 58.2k/58.2k [00:00<00:00, 281kB/s]\n",
      "Downloading: 100%|██████████| 36.3k/36.3k [00:00<00:00, 243kB/s]\n",
      "Downloading: 100%|██████████| 73.0/73.0 [00:00<00:00, 233kB/s]\n",
      "Downloading: 100%|██████████| 8.66M/8.66M [00:37<00:00, 241kB/s]\n",
      "Downloading: 100%|██████████| 4.59k/4.59k [00:00<00:00, 5.72MB/s]\n"
     ]
    },
    {
     "data": {
      "text/plain": [
       "'/home/app.e0016372/.cache/modelscope/hub/LLM-Research/Meta-Llama-3-70B-Instruct'"
      ]
     },
     "execution_count": 5,
     "metadata": {},
     "output_type": "execute_result"
    }
   ],
   "source": [
    "subprocess.run(f'rm -rf {path}', shell=True)\n",
    "model_dir = snapshot_download(name, ignore_file_pattern='(.safetensors)$')\n",
    "for x in ['.mdl', '.msc', '.mv']:\n",
    "    subprocess.run(f'rm {model_dir}/{x}', shell=True)\n",
    "model_dir"
   ]
  },
  {
   "cell_type": "code",
   "execution_count": null,
   "id": "0fb4a178",
   "metadata": {},
   "outputs": [],
   "source": []
  }
 ],
 "metadata": {
  "kernelspec": {
   "display_name": "test",
   "language": "python",
   "name": "test"
  },
  "language_info": {
   "codemirror_mode": {
    "name": "ipython",
    "version": 3
   },
   "file_extension": ".py",
   "mimetype": "text/x-python",
   "name": "python",
   "nbconvert_exporter": "python",
   "pygments_lexer": "ipython3",
   "version": "3.10.14"
  }
 },
 "nbformat": 4,
 "nbformat_minor": 5
}
